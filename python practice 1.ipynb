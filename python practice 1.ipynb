{
 "cells": [
  {
   "cell_type": "code",
   "execution_count": 1,
   "id": "447b74f0",
   "metadata": {},
   "outputs": [],
   "source": [
    "#write a python program to sum all the items in a list."
   ]
  },
  {
   "cell_type": "code",
   "execution_count": 2,
   "id": "540f6bef",
   "metadata": {},
   "outputs": [],
   "source": [
    "def sum_list(data):\n",
    "    sum_numbers = 0\n",
    "    for x in data:\n",
    "        sum_numbers += x\n",
    "    return sum_numbers"
   ]
  },
  {
   "cell_type": "code",
   "execution_count": 6,
   "id": "952bd7b9",
   "metadata": {},
   "outputs": [
    {
     "name": "stdout",
     "output_type": "stream",
     "text": [
      "22\n"
     ]
    }
   ],
   "source": [
    "print(sum_list([1,5,7,9]))"
   ]
  },
  {
   "cell_type": "code",
   "execution_count": 7,
   "id": "0ab08069",
   "metadata": {},
   "outputs": [],
   "source": [
    "#write a python program to count the number of strings where the string lenght is 2 or\n",
    "#more and the first and last character are same from a given list of strings"
   ]
  },
  {
   "cell_type": "code",
   "execution_count": 8,
   "id": "7385e21b",
   "metadata": {},
   "outputs": [],
   "source": [
    "def match_words(words):\n",
    "    jay = 0\n",
    "    for word in words:\n",
    "        if len(word) > 1 and word[0] == word[-1]:\n",
    "            jay += 1\n",
    "    return jay\n",
    "        "
   ]
  },
  {
   "cell_type": "code",
   "execution_count": 25,
   "id": "75139349",
   "metadata": {},
   "outputs": [],
   "source": [
    "a = ['abc', 'aaa', 'bbb', 'bcd', '111', 'xyzx']"
   ]
  },
  {
   "cell_type": "code",
   "execution_count": 26,
   "id": "8a921166",
   "metadata": {},
   "outputs": [
    {
     "data": {
      "text/plain": [
       "4"
      ]
     },
     "execution_count": 26,
     "metadata": {},
     "output_type": "execute_result"
    }
   ],
   "source": [
    "match_words(a)"
   ]
  },
  {
   "cell_type": "code",
   "execution_count": 27,
   "id": "fd441a49",
   "metadata": {},
   "outputs": [],
   "source": [
    "#write a python program to remove duplicates from a list."
   ]
  },
  {
   "cell_type": "code",
   "execution_count": 31,
   "id": "1100e4aa",
   "metadata": {},
   "outputs": [
    {
     "name": "stdout",
     "output_type": "stream",
     "text": [
      "{10, 50, 20, 60, 30}\n"
     ]
    }
   ],
   "source": [
    "samp_list = [10,20,20,30,10,50,10,50,60,20]\n",
    "dup_items = set(samp_list)\n",
    "print(dup_items)\n",
    "# for x in samp_list:\n",
    "#     if x not in dup_items:\n",
    "#         dup_items.add(x)\n",
    "# print(dup_items)"
   ]
  },
  {
   "cell_type": "code",
   "execution_count": null,
   "id": "045b7ef0",
   "metadata": {},
   "outputs": [],
   "source": []
  }
 ],
 "metadata": {
  "kernelspec": {
   "display_name": "Python 3 (ipykernel)",
   "language": "python",
   "name": "python3"
  },
  "language_info": {
   "codemirror_mode": {
    "name": "ipython",
    "version": 3
   },
   "file_extension": ".py",
   "mimetype": "text/x-python",
   "name": "python",
   "nbconvert_exporter": "python",
   "pygments_lexer": "ipython3",
   "version": "3.9.7"
  }
 },
 "nbformat": 4,
 "nbformat_minor": 5
}
