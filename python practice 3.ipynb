{
 "cells": [
  {
   "cell_type": "markdown",
   "id": "0b4a64ee",
   "metadata": {},
   "source": [
    "# create a tuple from multiple data types"
   ]
  },
  {
   "cell_type": "code",
   "execution_count": 1,
   "id": "e9383d05",
   "metadata": {},
   "outputs": [],
   "source": [
    "a = ['tuple', 'dict', 'try']\n",
    "b = [2.3, 4.5, 6.7]\n",
    "c = [1,2,3]\n",
    "d = [True, False, False]"
   ]
  },
  {
   "cell_type": "code",
   "execution_count": 3,
   "id": "13f6c500",
   "metadata": {},
   "outputs": [
    {
     "name": "stdout",
     "output_type": "stream",
     "text": [
      "(['tuple', 'dict', 'try'], [2.3, 4.5, 6.7], [1, 2, 3], [True, False, False])\n"
     ]
    }
   ],
   "source": [
    "tuple = (a, b, c, d)\n",
    "print(tuple)"
   ]
  },
  {
   "cell_type": "markdown",
   "id": "e4eda060",
   "metadata": {},
   "source": [
    "# Create a list of length 3 and Create a list of length 4, For each element in the first listDisplay the corresponding index element of the second list\n"
   ]
  },
  {
   "cell_type": "code",
   "execution_count": 4,
   "id": "576b95dd",
   "metadata": {},
   "outputs": [],
   "source": [
    "a = ['data science', 'blue mix', 'algorithms']\n",
    "b = ['red hat', 'blue mixx', 'green gold', 'orange ai']"
   ]
  },
  {
   "cell_type": "code",
   "execution_count": 5,
   "id": "79fce7e2",
   "metadata": {},
   "outputs": [
    {
     "name": "stdout",
     "output_type": "stream",
     "text": [
      "data science has the following match red hat\n",
      "blue mix has the following match blue mixx\n",
      "algorithms has the following match green gold\n"
     ]
    }
   ],
   "source": [
    "for a, b in zip(a, b):\n",
    "    print(a, 'has the following match', b)"
   ]
  },
  {
   "cell_type": "markdown",
   "id": "03c85c1f",
   "metadata": {},
   "source": [
    "# Display an example of Nested For Loops Using List Comprehension"
   ]
  },
  {
   "cell_type": "code",
   "execution_count": 9,
   "id": "b2210f97",
   "metadata": {},
   "outputs": [],
   "source": [
    "a = ['data science', 'blue mix', 'algorithms']\n",
    "b = ['red hat', 'blue mixx', 'green gold', 'orange ai']"
   ]
  },
  {
   "cell_type": "code",
   "execution_count": 7,
   "id": "cd4dacf7",
   "metadata": {},
   "outputs": [
    {
     "data": {
      "text/plain": [
       "[('data science', 'red hat'),\n",
       " ('data science', 'blue mixx'),\n",
       " ('data science', 'green gold'),\n",
       " ('data science', 'orange ai'),\n",
       " ('blue mix', 'red hat'),\n",
       " ('blue mix', 'blue mixx'),\n",
       " ('blue mix', 'green gold'),\n",
       " ('blue mix', 'orange ai'),\n",
       " ('algorithms', 'red hat'),\n",
       " ('algorithms', 'blue mixx'),\n",
       " ('algorithms', 'green gold'),\n",
       " ('algorithms', 'orange ai')]"
      ]
     },
     "execution_count": 7,
     "metadata": {},
     "output_type": "execute_result"
    }
   ],
   "source": [
    "[(head, match) for head in a for match in b]"
   ]
  },
  {
   "cell_type": "markdown",
   "id": "089d8b4c",
   "metadata": {},
   "source": [
    "# write a program for breaking and exiting out of loop\n"
   ]
  },
  {
   "cell_type": "code",
   "execution_count": 13,
   "id": "b786ad9d",
   "metadata": {},
   "outputs": [
    {
     "name": "stdout",
     "output_type": "stream",
     "text": [
      "Red Army\n",
      "Blue Army\n",
      "Green Army\n",
      "Looped through whole list, No Yellow Army found\n"
     ]
    }
   ],
   "source": [
    "#with else block:\n",
    "armies = ['Red Army', 'Blue Army', 'Green Army']\n",
    "for army in armies:\n",
    "    print(army)\n",
    "    if army == 'Yellow Army':\n",
    "        print('Green Army found stopping')\n",
    "        break\n",
    "else:\n",
    "    print('Looped through whole list, No Yellow Army found')"
   ]
  },
  {
   "cell_type": "code",
   "execution_count": 15,
   "id": "23b93399",
   "metadata": {},
   "outputs": [
    {
     "name": "stdout",
     "output_type": "stream",
     "text": [
      "Red Army\n",
      "Blue Army\n",
      "Blue Army found stopping\n"
     ]
    }
   ],
   "source": [
    "#without else block:\n",
    "armies = ['Red Army', 'Blue Army', 'Green Army']\n",
    "for army in armies:\n",
    "    print(army)\n",
    "    if army == 'Blue Army':\n",
    "        print('Blue Army found stopping')\n",
    "        break"
   ]
  },
  {
   "cell_type": "code",
   "execution_count": null,
   "id": "1890921a",
   "metadata": {},
   "outputs": [],
   "source": []
  }
 ],
 "metadata": {
  "kernelspec": {
   "display_name": "Python 3 (ipykernel)",
   "language": "python",
   "name": "python3"
  },
  "language_info": {
   "codemirror_mode": {
    "name": "ipython",
    "version": 3
   },
   "file_extension": ".py",
   "mimetype": "text/x-python",
   "name": "python",
   "nbconvert_exporter": "python",
   "pygments_lexer": "ipython3",
   "version": "3.9.7"
  }
 },
 "nbformat": 4,
 "nbformat_minor": 5
}
