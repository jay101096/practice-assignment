{
 "cells": [
  {
   "cell_type": "code",
   "execution_count": 1,
   "id": "1a7ef7fa",
   "metadata": {},
   "outputs": [],
   "source": [
    "#write a python program to check if all dictionaries in a list are empty or not."
   ]
  },
  {
   "cell_type": "code",
   "execution_count": 5,
   "id": "4278ee1d",
   "metadata": {},
   "outputs": [
    {
     "name": "stdout",
     "output_type": "stream",
     "text": [
      "True\n",
      "False\n"
     ]
    }
   ],
   "source": [
    "list1 = [{},{},{}]\n",
    "list2 = [{1:2},{},{}]\n",
    "print(all(not d for d in list1))\n",
    "print(all(not d for d in list2))"
   ]
  },
  {
   "cell_type": "code",
   "execution_count": 6,
   "id": "90c543a2",
   "metadata": {},
   "outputs": [],
   "source": [
    "#write a python program to remove duplicates from a list of lists."
   ]
  },
  {
   "cell_type": "code",
   "execution_count": 8,
   "id": "331c29bb",
   "metadata": {},
   "outputs": [],
   "source": [
    "import itertools"
   ]
  },
  {
   "cell_type": "code",
   "execution_count": 11,
   "id": "1f8aefc7",
   "metadata": {},
   "outputs": [
    {
     "name": "stdout",
     "output_type": "stream",
     "text": [
      "original list [[11, 25], [14, 15], [25, 25, 48], [17, 19, 89], [45]]\n",
      "New list [[11, 25], [14, 15], [17, 19, 89], [25, 25, 48], [45]]\n"
     ]
    }
   ],
   "source": [
    "list1 = [[11,25], [14,15], [25,25,48], [17,19,89], [45]]\n",
    "print('original list', list1)\n",
    "list1.sort()\n",
    "new_list = list(list1 for list1,_ in itertools.groupby(list1))\n",
    "print(\"New list\", new_list)"
   ]
  },
  {
   "cell_type": "code",
   "execution_count": 12,
   "id": "95586948",
   "metadata": {},
   "outputs": [],
   "source": [
    "#wirte a python program to extend a list without append"
   ]
  },
  {
   "cell_type": "code",
   "execution_count": 14,
   "id": "0b5bdf79",
   "metadata": {},
   "outputs": [
    {
     "name": "stdout",
     "output_type": "stream",
     "text": [
      "[2, 5, 8, 9, 1, 2, 3, 5, 8]\n"
     ]
    }
   ],
   "source": [
    "a = [1,2,3,5,8]\n",
    "b = [2,5,8,9]\n",
    "a[:0] = b\n",
    "print(a)"
   ]
  },
  {
   "cell_type": "code",
   "execution_count": 15,
   "id": "a98e8bb5",
   "metadata": {},
   "outputs": [],
   "source": [
    "#write a python program to find the list in a lists whose sum of elements is the highest"
   ]
  },
  {
   "cell_type": "code",
   "execution_count": 16,
   "id": "8f73ed47",
   "metadata": {},
   "outputs": [
    {
     "name": "stdout",
     "output_type": "stream",
     "text": [
      "[10, 11, 12]\n"
     ]
    }
   ],
   "source": [
    "a = [[1,2,3], [4,5,6], [7,8,9], [10,11,12]]\n",
    "print(max(a, key=sum))"
   ]
  },
  {
   "cell_type": "code",
   "execution_count": 17,
   "id": "74146391",
   "metadata": {},
   "outputs": [],
   "source": [
    "#write a python program to access dictionary key's element by index."
   ]
  },
  {
   "cell_type": "code",
   "execution_count": 24,
   "id": "e9cbdaf7",
   "metadata": {},
   "outputs": [
    {
     "name": "stdout",
     "output_type": "stream",
     "text": [
      "['jay', 'ram', 'abc']\n"
     ]
    }
   ],
   "source": [
    "a = {'jay' : 10, 'ram' : 25, 'abc' : 123}\n",
    "keys = list(a)[0::1]\n",
    "print(keys)"
   ]
  },
  {
   "cell_type": "code",
   "execution_count": 25,
   "id": "12a81ec1",
   "metadata": {},
   "outputs": [],
   "source": [
    "#write a python program to iterate over two lists simultaneously."
   ]
  },
  {
   "cell_type": "code",
   "execution_count": 26,
   "id": "3bb3f9c4",
   "metadata": {},
   "outputs": [
    {
     "name": "stdout",
     "output_type": "stream",
     "text": [
      "1 abc\n",
      "2 xyz\n",
      "3 pqr\n"
     ]
    }
   ],
   "source": [
    "a = [1,2,3]\n",
    "b = ['abc', 'xyz', 'pqr']\n",
    "for (x,y) in zip(a,b):\n",
    "    print(x,y)"
   ]
  },
  {
   "cell_type": "code",
   "execution_count": 27,
   "id": "e04c8cd5",
   "metadata": {},
   "outputs": [],
   "source": [
    "#write a python program to insert a string at the begining of every elemnts in a list.\n"
   ]
  },
  {
   "cell_type": "code",
   "execution_count": 30,
   "id": "97b75981",
   "metadata": {},
   "outputs": [
    {
     "name": "stdout",
     "output_type": "stream",
     "text": [
      "['acc 1']\n",
      "['acc 2']\n",
      "['acc 3']\n",
      "['acc 4']\n",
      "['acc 5']\n",
      "['acc 6']\n",
      "['acc 7']\n",
      "['acc 1', 'acc 2', 'acc 3', 'acc 4', 'acc 5', 'acc 6', 'acc 7']\n"
     ]
    }
   ],
   "source": [
    "a = [1,2,3,4,5,6,7]\n",
    "for i in a:\n",
    "    print(['acc {0}'.format(i)])\n",
    "#or\n",
    "print([\"acc {0}\".format(i) for i in a])"
   ]
  },
  {
   "cell_type": "code",
   "execution_count": 31,
   "id": "64cf460f",
   "metadata": {},
   "outputs": [],
   "source": [
    "#write a program to take two lists and print if they have at least one common member"
   ]
  },
  {
   "cell_type": "code",
   "execution_count": 32,
   "id": "b7b2a1bf",
   "metadata": {},
   "outputs": [],
   "source": [
    "def common_num(list1, list2):\n",
    "    result = False\n",
    "    for x in list1:\n",
    "        for y in list2:\n",
    "            if x == y:\n",
    "                result = True\n",
    "    return result"
   ]
  },
  {
   "cell_type": "code",
   "execution_count": 37,
   "id": "77003d2e",
   "metadata": {},
   "outputs": [
    {
     "data": {
      "text/plain": [
       "True"
      ]
     },
     "execution_count": 37,
     "metadata": {},
     "output_type": "execute_result"
    }
   ],
   "source": [
    "a = [1,2,3,4,5]\n",
    "b = [1,5,8,7,9]\n",
    "common_num(a,b)"
   ]
  },
  {
   "cell_type": "code",
   "execution_count": 36,
   "id": "8df05c36",
   "metadata": {},
   "outputs": [
    {
     "data": {
      "text/plain": [
       "False"
      ]
     },
     "execution_count": 36,
     "metadata": {},
     "output_type": "execute_result"
    }
   ],
   "source": [
    "x = [1,2,3,6]\n",
    "y = [5,4,7,8]\n",
    "common_num(x,y)"
   ]
  },
  {
   "cell_type": "code",
   "execution_count": 38,
   "id": "d4df6fa5",
   "metadata": {},
   "outputs": [],
   "source": [
    "#compute all permutations in a list"
   ]
  },
  {
   "cell_type": "code",
   "execution_count": 40,
   "id": "e6b9b1db",
   "metadata": {},
   "outputs": [],
   "source": [
    "import itertools"
   ]
  },
  {
   "cell_type": "code",
   "execution_count": 46,
   "id": "e2de0a10",
   "metadata": {},
   "outputs": [
    {
     "name": "stdout",
     "output_type": "stream",
     "text": [
      "[(1, 2, 3), (1, 3, 2), (2, 1, 3), (2, 3, 1), (3, 1, 2), (3, 2, 1)]\n"
     ]
    }
   ],
   "source": [
    "print(list(itertools.permutations([1,2,3])))"
   ]
  },
  {
   "cell_type": "code",
   "execution_count": null,
   "id": "307f4940",
   "metadata": {},
   "outputs": [],
   "source": []
  }
 ],
 "metadata": {
  "kernelspec": {
   "display_name": "Python 3 (ipykernel)",
   "language": "python",
   "name": "python3"
  },
  "language_info": {
   "codemirror_mode": {
    "name": "ipython",
    "version": 3
   },
   "file_extension": ".py",
   "mimetype": "text/x-python",
   "name": "python",
   "nbconvert_exporter": "python",
   "pygments_lexer": "ipython3",
   "version": "3.9.7"
  }
 },
 "nbformat": 4,
 "nbformat_minor": 5
}
